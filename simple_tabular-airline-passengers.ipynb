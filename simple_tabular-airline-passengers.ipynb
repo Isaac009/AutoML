{
 "cells": [
  {
   "cell_type": "code",
   "execution_count": 1,
   "source": [
    "\"\"\" Example script for predicting columns of tables, demonstrating simple use-case \"\"\"\n",
    "\n",
    "from autogluon.tabular import TabularDataset, TabularPredictor\n",
    "\n",
    "\n",
    "# Training time:\n",
    "train_data = TabularDataset('../../modified/airline-passengers-train.csv')  # can be local CSV file as well, returns Pandas DataFrame\n",
    "train_data = train_data.head(500)  # subsample for faster demo\n",
    "print(train_data.head())\n",
    "label = 'class'  # specifies which column do we want to predict\n",
    "save_path = 'airline_passengers_ms/'  # where to save trained models\n",
    "\n"
   ],
   "outputs": [
    {
     "output_type": "stream",
     "name": "stdout",
     "text": [
      "         0  class\n",
      "0  1950-07    170\n",
      "1  1951-01    145\n",
      "2  1950-03    141\n",
      "3  1957-03    356\n",
      "4  1952-05    183\n"
     ]
    }
   ],
   "metadata": {}
  },
  {
   "cell_type": "code",
   "execution_count": 2,
   "source": [
    "predictor = TabularPredictor(label=label, path=save_path).fit(train_data, time_limit=3600, presets='best_quality')\n",
    "# NOTE: Default settings above are intended to ensure reasonable runtime at the cost of accuracy. To maximize predictive accuracy, do this instead:\n",
    "# predictor = TabularPredictor(label=label, eval_metric=YOUR_METRIC_NAME, path=save_path).fit(train_data, presets='best_quality')\n",
    "results = predictor.fit_summary()\n"
   ],
   "outputs": [
    {
     "output_type": "stream",
     "name": "stderr",
     "text": [
      "Beginning AutoGluon training ... Time limit = 3600s\n",
      "AutoGluon will save models to \"airline_passengers_ms/\"\n",
      "AutoGluon Version:  0.2.0\n",
      "Train Data Rows:    115\n",
      "Train Data Columns: 1\n",
      "Preprocessing data ...\n",
      "AutoGluon infers your prediction problem is: 'regression' (because dtype of label-column == int and many unique label-values observed).\n",
      "\tLabel info (max, min, mean, stddev): (559, 104, 265.86087, 114.02069)\n",
      "\tIf 'regression' is not the correct problem_type, please manually specify the problem_type argument in fit() (You may specify problem_type as one of: ['binary', 'multiclass', 'regression'])\n",
      "Using Feature Generators to preprocess the data ...\n",
      "Fitting AutoMLPipelineFeatureGenerator...\n",
      "\tAvailable Memory:                    518466.9 MB\n",
      "\tTrain Data (Original)  Memory Usage: 0.01 MB (0.0% of available memory)\n",
      "\tInferring data type of each feature based on column values. Set feature_metadata_in to manually specify special dtypes of the features.\n",
      "\tStage 1 Generators:\n",
      "\t\tFitting AsTypeFeatureGenerator...\n",
      "\tStage 2 Generators:\n",
      "\t\tFitting FillNaFeatureGenerator...\n",
      "\tStage 3 Generators:\n",
      "\t\tFitting DatetimeFeatureGenerator...\n",
      "\tStage 4 Generators:\n",
      "\t\tFitting DropUniqueFeatureGenerator...\n",
      "\tTypes of features in original data (raw dtype, special dtypes):\n",
      "\t\t('object', ['datetime_as_object']) : 1 | ['0']\n",
      "\tTypes of features in processed data (raw dtype, special dtypes):\n",
      "\t\t('int', ['datetime_as_int']) : 1 | ['0']\n",
      "\t0.0s = Fit runtime\n",
      "\t1 features in original data used to generate 1 features in processed data.\n",
      "\tTrain Data (Processed) Memory Usage: 0.0 MB (0.0% of available memory)\n",
      "Data preprocessing and feature engineering runtime = 0.06s ...\n",
      "AutoGluon will gauge predictive performance using evaluation metric: 'root_mean_squared_error'\n",
      "\tTo change this, specify the eval_metric argument of fit()\n",
      "Automatically generating train/validation split with holdout_frac=0.2, Train Rows: 92, Val Rows: 23\n",
      "Fitting model: KNeighborsUnif ... Training model for up to 3599.94s of the 3599.94s of remaining time.\n",
      "\tNo valid features to train KNeighborsUnif... Skipping this model.\n",
      "Fitting model: KNeighborsDist ... Training model for up to 3599.94s of the 3599.94s of remaining time.\n",
      "\tNo valid features to train KNeighborsDist... Skipping this model.\n",
      "Fitting model: LightGBMXT ... Training model for up to 3599.94s of the 3599.94s of remaining time.\n"
     ]
    },
    {
     "output_type": "stream",
     "name": "stdout",
     "text": [
      "[1000]\ttrain_set's rmse: 38.0432\tvalid_set's rmse: 54.7317\n",
      "[2000]\ttrain_set's rmse: 37.3611\tvalid_set's rmse: 54.4316\n"
     ]
    },
    {
     "output_type": "stream",
     "name": "stderr",
     "text": [
      "\t-281.2742\t = Validation root_mean_squared_error score\n",
      "\t87.39s\t = Training runtime\n",
      "\t0.01s\t = Validation runtime\n",
      "Fitting model: LightGBM ... Training model for up to 3512.51s of the 3512.51s of remaining time.\n"
     ]
    },
    {
     "output_type": "stream",
     "name": "stdout",
     "text": [
      "[1000]\ttrain_set's rmse: 35.3204\tvalid_set's rmse: 53.7288\n",
      "[2000]\ttrain_set's rmse: 34.9314\tvalid_set's rmse: 53.2433\n",
      "[3000]\ttrain_set's rmse: 34.8081\tvalid_set's rmse: 53.0319\n",
      "[4000]\ttrain_set's rmse: 34.7684\tvalid_set's rmse: 52.9668\n",
      "[5000]\ttrain_set's rmse: 34.7547\tvalid_set's rmse: 52.9367\n",
      "[6000]\ttrain_set's rmse: 34.7498\tvalid_set's rmse: 52.9131\n",
      "[7000]\ttrain_set's rmse: 34.7481\tvalid_set's rmse: 52.8995\n",
      "[8000]\ttrain_set's rmse: 34.7475\tvalid_set's rmse: 52.8917\n",
      "[9000]\ttrain_set's rmse: 34.7473\tvalid_set's rmse: 52.8866\n",
      "[10000]\ttrain_set's rmse: 34.7472\tvalid_set's rmse: 52.8838\n"
     ]
    },
    {
     "output_type": "stream",
     "name": "stderr",
     "text": [
      "\t-52.8838\t = Validation root_mean_squared_error score\n",
      "\t597.78s\t = Training runtime\n",
      "\t0.01s\t = Validation runtime\n",
      "Fitting model: RandomForestMSE ... Training model for up to 2914.39s of the 2914.39s of remaining time.\n",
      "\t-29.9668\t = Validation root_mean_squared_error score\n",
      "\t0.88s\t = Training runtime\n",
      "\t0.14s\t = Validation runtime\n",
      "Fitting model: CatBoost ... Training model for up to 2913.36s of the 2913.36s of remaining time.\n",
      "\t-28.546\t = Validation root_mean_squared_error score\n",
      "\t0.38s\t = Training runtime\n",
      "\t0.01s\t = Validation runtime\n",
      "Fitting model: ExtraTreesMSE ... Training model for up to 2912.97s of the 2912.96s of remaining time.\n",
      "\t-32.1744\t = Validation root_mean_squared_error score\n",
      "\t0.93s\t = Training runtime\n",
      "\t0.15s\t = Validation runtime\n",
      "Fitting model: NeuralNetFastAI ... Training model for up to 2911.88s of the 2911.87s of remaining time.\n",
      "\t-285.6674\t = Validation root_mean_squared_error score\n",
      "\t5.18s\t = Training runtime\n",
      "\t0.02s\t = Validation runtime\n",
      "Fitting model: XGBoost ... Training model for up to 2906.67s of the 2906.66s of remaining time.\n",
      "\t-30.1528\t = Validation root_mean_squared_error score\n",
      "\t47.37s\t = Training runtime\n",
      "\t0.02s\t = Validation runtime\n",
      "Fitting model: NeuralNetMXNet ... Training model for up to 2859.24s of the 2859.24s of remaining time.\n",
      "\t-49.3275\t = Validation root_mean_squared_error score\n",
      "\t6.31s\t = Training runtime\n",
      "\t0.11s\t = Validation runtime\n",
      "Fitting model: LightGBMLarge ... Training model for up to 2852.82s of the 2852.82s of remaining time.\n"
     ]
    },
    {
     "output_type": "stream",
     "name": "stdout",
     "text": [
      "[1000]\ttrain_set's rmse: 24.6863\tvalid_set's rmse: 39.2697\n",
      "[2000]\ttrain_set's rmse: 24.6356\tvalid_set's rmse: 39.1745\n"
     ]
    },
    {
     "output_type": "stream",
     "name": "stderr",
     "text": [
      "\t-39.1741\t = Validation root_mean_squared_error score\n",
      "\t555.23s\t = Training runtime\n",
      "\t0.01s\t = Validation runtime\n",
      "Fitting model: WeightedEnsemble_L2 ... Training model for up to 360.0s of the 2296.93s of remaining time.\n",
      "\t-27.775\t = Validation root_mean_squared_error score\n",
      "\t0.43s\t = Training runtime\n",
      "\t0.0s\t = Validation runtime\n",
      "AutoGluon training complete, total runtime = 1303.53s ...\n",
      "TabularPredictor saved. To load, use: predictor = TabularPredictor.load(\"airline_passengers_ms/\")\n"
     ]
    },
    {
     "output_type": "stream",
     "name": "stdout",
     "text": [
      "*** Summary of fit() ***\n",
      "Estimated performance of each model:\n",
      "                 model   score_val  pred_time_val    fit_time  pred_time_val_marginal  fit_time_marginal  stack_level  can_infer  fit_order\n",
      "0  WeightedEnsemble_L2  -27.774987       0.263192    8.049107                0.000599           0.432174            2       True         10\n",
      "1             CatBoost  -28.545953       0.005719    0.384898                0.005719           0.384898            1       True          4\n",
      "2      RandomForestMSE  -29.966824       0.138103    0.875215                0.138103           0.875215            1       True          3\n",
      "3              XGBoost  -30.152825       0.019234   47.371173                0.019234          47.371173            1       True          7\n",
      "4        ExtraTreesMSE  -32.174355       0.148063    0.926887                0.148063           0.926887            1       True          5\n",
      "5        LightGBMLarge  -39.174076       0.012766  555.234303                0.012766         555.234303            1       True          9\n",
      "6       NeuralNetMXNet  -49.327548       0.108811    6.305147                0.108811           6.305147            1       True          8\n",
      "7             LightGBM  -52.883777       0.011753  597.780169                0.011753         597.780169            1       True          2\n",
      "8           LightGBMXT -281.274189       0.010972   87.392359                0.010972          87.392359            1       True          1\n",
      "9      NeuralNetFastAI -285.667356       0.016897    5.177256                0.016897           5.177256            1       True          6\n",
      "Number of models trained: 10\n",
      "Types of models trained:\n",
      "{'CatBoostModel', 'LGBModel', 'XTModel', 'XGBoostModel', 'WeightedEnsembleModel', 'TabularNeuralNetModel', 'RFModel', 'NNFastAiTabularModel'}\n",
      "Bagging used: False \n",
      "Multi-layer stack-ensembling used: False \n",
      "Feature Metadata (Processed):\n",
      "(raw dtype, special dtypes):\n",
      "('int', ['datetime_as_int']) : 1 | ['0']\n",
      "Plot summary of models saved to file: airline_passengers_ms/SummaryOfModels.html\n",
      "*** End of fit() summary ***\n"
     ]
    }
   ],
   "metadata": {}
  },
  {
   "cell_type": "code",
   "execution_count": 3,
   "source": [
    "# Inference time:\n",
    "test_data = TabularDataset('../../modified/airline-passengers-test.csv')  # another Pandas DataFrame\n",
    "y_test = test_data[label]\n",
    "test_data = test_data.drop(labels=[label], axis=1)  # delete labels from test data since we wouldn't have them in practice\n",
    "print(test_data.head())\n",
    "\n"
   ],
   "outputs": [
    {
     "output_type": "stream",
     "name": "stderr",
     "text": [
      "Loaded data from: ../../modified/airline-passengers-test.csv | Columns = 2 / 2 | Rows = 29 -> 29\n"
     ]
    },
    {
     "output_type": "stream",
     "name": "stdout",
     "text": [
      "         0\n",
      "0  1953-01\n",
      "1  1956-01\n",
      "2  1958-08\n",
      "3  1955-07\n",
      "4  1957-07\n"
     ]
    }
   ],
   "metadata": {}
  },
  {
   "cell_type": "code",
   "execution_count": 4,
   "source": [
    "predictor = TabularPredictor.load(save_path)  # Unnecessary, we reload predictor just to demonstrate how to load previously-trained predictor from file\n",
    "y_pred = predictor.predict(test_data)\n",
    "perf = predictor.evaluate_predictions(y_true=y_test, y_pred=y_pred, auxiliary_metrics=True)\n"
   ],
   "outputs": [
    {
     "output_type": "stream",
     "name": "stderr",
     "text": [
      "Evaluation: root_mean_squared_error on test data: -50.145914936318725\n",
      "\tNote: Scores are always higher_is_better. This metric score can be multiplied by -1 to get the metric value.\n",
      "Evaluations on test data:\n",
      "{\n",
      "    \"root_mean_squared_error\": -50.145914936318725,\n",
      "    \"mean_squared_error\": -2514.612784800513,\n",
      "    \"mean_absolute_error\": -38.782122907967405,\n",
      "    \"r2\": 0.8404053495103291,\n",
      "    \"pearsonr\": 0.9388929239610186,\n",
      "    \"median_absolute_error\": -28.656829833984375\n",
      "}\n"
     ]
    }
   ],
   "metadata": {}
  },
  {
   "cell_type": "code",
   "execution_count": 5,
   "source": [
    "print('Accuracy = {:.2f}%'.format(perf[\"accuracy\"] * 100))"
   ],
   "outputs": [
    {
     "output_type": "error",
     "ename": "KeyError",
     "evalue": "'accuracy'",
     "traceback": [
      "\u001b[0;31m---------------------------------------------------------------------------\u001b[0m",
      "\u001b[0;31mKeyError\u001b[0m                                  Traceback (most recent call last)",
      "\u001b[0;32m<ipython-input-5-e6007b3558b7>\u001b[0m in \u001b[0;36m<module>\u001b[0;34m\u001b[0m\n\u001b[0;32m----> 1\u001b[0;31m \u001b[0mprint\u001b[0m\u001b[0;34m(\u001b[0m\u001b[0;34m'Accuracy = {:.2f}%'\u001b[0m\u001b[0;34m.\u001b[0m\u001b[0mformat\u001b[0m\u001b[0;34m(\u001b[0m\u001b[0mperf\u001b[0m\u001b[0;34m[\u001b[0m\u001b[0;34m\"accuracy\"\u001b[0m\u001b[0;34m]\u001b[0m \u001b[0;34m*\u001b[0m \u001b[0;36m100\u001b[0m\u001b[0;34m)\u001b[0m\u001b[0;34m)\u001b[0m\u001b[0;34m\u001b[0m\u001b[0;34m\u001b[0m\u001b[0m\n\u001b[0m",
      "\u001b[0;31mKeyError\u001b[0m: 'accuracy'"
     ]
    }
   ],
   "metadata": {}
  },
  {
   "cell_type": "code",
   "execution_count": null,
   "source": [
    "airline-passengers"
   ],
   "outputs": [],
   "metadata": {}
  }
 ],
 "metadata": {
  "orig_nbformat": 4,
  "language_info": {
   "name": "python",
   "version": "3.6.9",
   "mimetype": "text/x-python",
   "codemirror_mode": {
    "name": "ipython",
    "version": 3
   },
   "pygments_lexer": "ipython3",
   "nbconvert_exporter": "python",
   "file_extension": ".py"
  },
  "kernelspec": {
   "name": "python3",
   "display_name": "Python 3.6.9 64-bit ('auto_glucon': venv)"
  },
  "interpreter": {
   "hash": "8cbcbecefa271004e6582b9d6d4515a215f41598e734b38ac4197b8836b69e1c"
  }
 },
 "nbformat": 4,
 "nbformat_minor": 2
}